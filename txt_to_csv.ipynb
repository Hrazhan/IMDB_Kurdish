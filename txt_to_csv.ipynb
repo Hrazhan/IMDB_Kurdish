{
 "cells": [
  {
   "cell_type": "markdown",
   "id": "45c278a4",
   "metadata": {},
   "source": [
    "## Converting the .txt file into on csv file\n",
    "There are 50K instances for both training and testing, 25k each. The testing data is also as large as the training data, here I will merge into one csv file so later on we can split the training and testing data into any size we want."
   ]
  },
  {
   "cell_type": "code",
   "execution_count": 2,
   "id": "feb91af5",
   "metadata": {},
   "outputs": [],
   "source": [
    "import pandas as pd\n",
    "import os\n",
    "\n",
    "DATADIR = \"./imdb_ckb\""
   ]
  },
  {
   "cell_type": "code",
   "execution_count": 3,
   "id": "593fddd6",
   "metadata": {},
   "outputs": [],
   "source": [
    "def read_text(filename):\n",
    "    with open(filename) as f: \n",
    "        data = f.read()\n",
    "    return data\n",
    "\n",
    "def get_imdb_df(datadir,val=None):\n",
    "    data = [(read_text(datadir + filename),val) for filename in os.listdir(datadir)]\n",
    "    return pd.DataFrame(data,columns=['review','sentiment'])    "
   ]
  },
  {
   "cell_type": "code",
   "execution_count": 4,
   "id": "f5d69c2b",
   "metadata": {},
   "outputs": [],
   "source": [
    "def merge_files_into_csv(train_dir = DATADIR + \"/train\", test_dir = DATADIR + \"/test\"):\n",
    "    \n",
    "    pos = get_imdb_df(train_dir + \"/pos/\",1)\n",
    "    neg = get_imdb_df(train_dir + \"/neg/\",0)\n",
    "    train = pd.concat([pos, neg])\n",
    "    print(\"IMDB train data size: %d \"%(len(train)))\n",
    "\n",
    "    pos = get_imdb_df(test_dir + \"/pos/\",1)\n",
    "    neg = get_imdb_df(test_dir + \"/neg/\",0)\n",
    "    test = pd.concat([pos, neg])\n",
    "    print(\"IMDB test data size: %d \"%(len(test)))\n",
    "    \n",
    "    df = pd.concat([train, test])\n",
    "    df.to_csv(\"IMDB_Sorani_Reviews.csv\", index = None, header=True)"
   ]
  },
  {
   "cell_type": "code",
   "execution_count": 15,
   "id": "27f39e13",
   "metadata": {},
   "outputs": [
    {
     "name": "stdout",
     "output_type": "stream",
     "text": [
      "IMDB train data size: 25000 \n",
      "IMDB test data size: 25000 \n"
     ]
    }
   ],
   "source": [
    "merge_files_into_csv()"
   ]
  },
  {
   "cell_type": "code",
   "execution_count": 5,
   "id": "b90ab229",
   "metadata": {},
   "outputs": [],
   "source": [
    "def train_test_split(train_dir = DATADIR + \"/train\", test_dir = DATADIR + \"/test\"):\n",
    "    \n",
    "    pos = get_imdb_df(train_dir + \"/pos/\",1)\n",
    "    neg = get_imdb_df(train_dir + \"/neg/\",0)\n",
    "    train = pd.concat([pos, neg])\n",
    "    print(\"IMDB train data size: %d \"%(len(train)))\n",
    "    train.to_csv(\"train.csv\", index = None, header=True)\n",
    "\n",
    "    pos = get_imdb_df(test_dir + \"/pos/\",1)\n",
    "    neg = get_imdb_df(test_dir + \"/neg/\",0)\n",
    "    test = pd.concat([pos, neg])\n",
    "    print(\"IMDB test data size: %d \"%(len(test)))\n",
    "    test.to_csv(\"test.csv\", index = None, header=True)\n"
   ]
  },
  {
   "cell_type": "code",
   "execution_count": 6,
   "id": "1627cfdc",
   "metadata": {},
   "outputs": [
    {
     "name": "stdout",
     "output_type": "stream",
     "text": [
      "IMDB train data size: 24903 \n",
      "IMDB test data size: 24692 \n"
     ]
    }
   ],
   "source": [
    "train_test_split()"
   ]
  },
  {
   "cell_type": "code",
   "execution_count": null,
   "id": "028ae601",
   "metadata": {},
   "outputs": [],
   "source": []
  }
 ],
 "metadata": {
  "kernelspec": {
   "display_name": "Python 3 (ipykernel)",
   "language": "python",
   "name": "python3"
  },
  "language_info": {
   "codemirror_mode": {
    "name": "ipython",
    "version": 3
   },
   "file_extension": ".py",
   "mimetype": "text/x-python",
   "name": "python",
   "nbconvert_exporter": "python",
   "pygments_lexer": "ipython3",
   "version": "3.10.8"
  },
  "latex_envs": {
   "LaTeX_envs_menu_present": true,
   "autoclose": false,
   "autocomplete": true,
   "bibliofile": "biblio.bib",
   "cite_by": "apalike",
   "current_citInitial": 1,
   "eqLabelWithNumbers": true,
   "eqNumInitial": 1,
   "hotkeys": {
    "equation": "Ctrl-E",
    "itemize": "Ctrl-I"
   },
   "labels_anchors": false,
   "latex_user_defs": false,
   "report_style_numbering": false,
   "user_envs_cfg": false
  },
  "nbTranslate": {
   "displayLangs": [
    "*"
   ],
   "hotkey": "alt-t",
   "langInMainMenu": true,
   "sourceLang": "en",
   "targetLang": "fr",
   "useGoogleTranslate": true
  }
 },
 "nbformat": 4,
 "nbformat_minor": 5
}
